{
 "cells": [
  {
   "cell_type": "code",
   "execution_count": 2,
   "id": "58a2899b",
   "metadata": {},
   "outputs": [],
   "source": [
    "import json"
   ]
  },
  {
   "cell_type": "code",
   "execution_count": 1,
   "id": "532b0e20-ba0d-4570-af5e-c1ba50cfa6b2",
   "metadata": {},
   "outputs": [],
   "source": [
    "with open(\"json_data.txt\", \"r\") as file:\n",
    "    lines = file.read()\n",
    "    lines = lines.splitlines()"
   ]
  },
  {
   "cell_type": "code",
   "execution_count": 3,
   "id": "fc12fe1c-3e5b-4013-b033-887e7d139794",
   "metadata": {},
   "outputs": [],
   "source": [
    "lx1 = [ int(line.split(\": \")[1].split(\", \")[0]) for line in lines ]"
   ]
  },
  {
   "cell_type": "code",
   "execution_count": 5,
   "id": "22f619a2-ff12-401b-9a94-8d838e044ebf",
   "metadata": {},
   "outputs": [
    {
     "name": "stdout",
     "output_type": "stream",
     "text": [
      "len(lx1)=1407, len(lx1sets)=61 lx1sets={1723943344, 1723943345, 1723943346, 1723943347, 1723943348, 1723943349, 1723943350, 1723943351, 1723943352, 1723943353, 1723943354, 1723943355, 1723943356, 1723943357, 1723943358, 1723943359, 1723943360, 1723943361, 1723943362, 1723943363, 1723943364, 1723943365, 1723943366, 1723943367, 1723943368, 1723943369, 1723943370, 1723943371, 1723943372, 1723943373, 1723943374, 1723943375, 1723943376, 1723943377, 1723943378, 1723943379, 1723943380, 1723943381, 1723943382, 1723943383, 1723943384, 1723943385, 1723943386, 1723943387, 1723943388, 1723943389, 1723943390, 1723943391, 1723943392, 1723943393, 1723943394, 1723943395, 1723943396, 1723943397, 1723943398, 1723943399, 1723943400, 1723943401, 1723943402, 1723943403, 1723943404}\n"
     ]
    }
   ],
   "source": [
    "lx1sets = set(lx1)\n",
    "print(f\"{len(lx1)=}, {len(lx1sets)=} {lx1sets=}\")"
   ]
  },
  {
   "cell_type": "code",
   "execution_count": 6,
   "id": "e3ddf0d5-5266-4778-a367-b7de884788c0",
   "metadata": {},
   "outputs": [
    {
     "name": "stdout",
     "output_type": "stream",
     "text": [
      " lx1set=1723943344 1 \n",
      " lx1set=1723943345 24 \n",
      " lx1set=1723943346 23 \n",
      " lx1set=1723943347 24 \n",
      " lx1set=1723943348 24 \n",
      " lx1set=1723943349 23 \n",
      " lx1set=1723943350 24 \n",
      " lx1set=1723943351 24 \n",
      " lx1set=1723943352 23 \n",
      " lx1set=1723943353 24 \n",
      " lx1set=1723943354 24 \n",
      " lx1set=1723943355 23 \n",
      " lx1set=1723943356 24 \n",
      " lx1set=1723943357 24 \n",
      " lx1set=1723943358 24 \n",
      " lx1set=1723943359 24 \n",
      " lx1set=1723943360 23 \n",
      " lx1set=1723943361 24 \n",
      " lx1set=1723943362 23 \n",
      " lx1set=1723943363 24 \n",
      " lx1set=1723943364 24 \n",
      " lx1set=1723943365 25 \n",
      " lx1set=1723943366 23 \n",
      " lx1set=1723943367 24 \n",
      " lx1set=1723943368 24 \n",
      " lx1set=1723943369 23 \n",
      " lx1set=1723943370 24 \n",
      " lx1set=1723943371 24 \n",
      " lx1set=1723943372 24 \n",
      " lx1set=1723943373 23 \n",
      " lx1set=1723943374 24 \n",
      " lx1set=1723943375 24 \n",
      " lx1set=1723943376 24 \n",
      " lx1set=1723943377 23 \n",
      " lx1set=1723943378 24 \n",
      " lx1set=1723943379 24 \n",
      " lx1set=1723943380 24 \n",
      " lx1set=1723943381 23 \n",
      " lx1set=1723943382 24 \n",
      " lx1set=1723943383 24 \n",
      " lx1set=1723943384 25 \n",
      " lx1set=1723943385 24 \n",
      " lx1set=1723943386 24 \n",
      " lx1set=1723943387 23 \n",
      " lx1set=1723943388 24 \n",
      " lx1set=1723943389 24 \n",
      " lx1set=1723943390 24 \n",
      " lx1set=1723943391 24 \n",
      " lx1set=1723943392 23 \n",
      " lx1set=1723943393 24 \n",
      " lx1set=1723943394 24 \n",
      " lx1set=1723943395 24 \n",
      " lx1set=1723943396 24 \n",
      " lx1set=1723943397 24 \n",
      " lx1set=1723943398 24 \n",
      " lx1set=1723943399 24 \n",
      " lx1set=1723943400 24 \n",
      " lx1set=1723943401 24 \n",
      " lx1set=1723943402 24 \n",
      " lx1set=1723943403 24 \n",
      " lx1set=1723943404 1 \n"
     ]
    }
   ],
   "source": [
    "for lx1set in lx1sets:\n",
    "    print(f\" {lx1set=} {lx1.count(lx1set)} \")"
   ]
  },
  {
   "cell_type": "code",
   "execution_count": null,
   "id": "e61e9684-135b-4ac8-b2bb-d5a8419d052f",
   "metadata": {},
   "outputs": [],
   "source": []
  }
 ],
 "metadata": {
  "kernelspec": {
   "display_name": "Python 3 (ipykernel)",
   "language": "python",
   "name": "python3"
  },
  "language_info": {
   "codemirror_mode": {
    "name": "ipython",
    "version": 3
   },
   "file_extension": ".py",
   "mimetype": "text/x-python",
   "name": "python",
   "nbconvert_exporter": "python",
   "pygments_lexer": "ipython3",
   "version": "3.9.6"
  }
 },
 "nbformat": 4,
 "nbformat_minor": 5
}
